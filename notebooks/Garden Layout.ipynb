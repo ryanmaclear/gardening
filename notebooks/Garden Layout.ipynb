{
 "cells": [
  {
   "cell_type": "markdown",
   "metadata": {},
   "source": [
    "# Vegetable Gardening Layout and Costing\n",
    "\n",
    "This notebook serves as as tool for describing the layout of the vegetable garden, and woking out various costs thereof.\n",
    "\n",
    "The different parameters are (all in centimeters):\n",
    "\n",
    "* $a$ = distance from wall to bed edge\n",
    "* $b$ = width of garden including empty space from garden to wall\n",
    "* $c$ = width of left hand garden bed\n",
    "* $d$ = path from hendge side for to first bed\n",
    "* $e$ = width of beds\n",
    "* $f$ = separation between beds\n",
    "* $g$ = length of garden\n",
    "* $h$ = width of path - wall side\n",
    "* $i$ = width of path - lenght fence side\n",
    "\n",
    "This is interim - still need to take correct pathways into account"
   ]
  },
  {
   "cell_type": "code",
   "execution_count": 21,
   "metadata": {},
   "outputs": [],
   "source": [
    "a = 100\n",
    "b = 480\n",
    "c = 60\n",
    "d = 80\n",
    "e = 100\n",
    "f = 60\n",
    "g = 560\n",
    "i = 40"
   ]
  },
  {
   "cell_type": "code",
   "execution_count": 22,
   "metadata": {},
   "outputs": [
    {
     "name": "stdout",
     "output_type": "stream",
     "text": [
      "1520\n"
     ]
    }
   ],
   "source": [
    "Fence = 2 * b + g\n",
    "print(Fence)"
   ]
  },
  {
   "cell_type": "code",
   "execution_count": 23,
   "metadata": {},
   "outputs": [
    {
     "name": "stdout",
     "output_type": "stream",
     "text": [
      "280\n"
     ]
    }
   ],
   "source": [
    "BedLength = b - a - c - i\n",
    "print(BedLength)"
   ]
  },
  {
   "cell_type": "code",
   "execution_count": 24,
   "metadata": {},
   "outputs": [
    {
     "name": "stdout",
     "output_type": "stream",
     "text": [
      "2800\n"
     ]
    }
   ],
   "source": [
    "BedBorder = 2 * g + 6 * BedLength\n",
    "print(BedBorder)"
   ]
  },
  {
   "cell_type": "code",
   "execution_count": 27,
   "metadata": {},
   "outputs": [
    {
     "name": "stdout",
     "output_type": "stream",
     "text": [
      "1575\n"
     ]
    }
   ],
   "source": [
    "import math\n",
    "\n",
    "PriceOfFenceUnit = 175\n",
    "FenceUnit = 180\n",
    "FenceNumber = math.ceil(Fence/FenceUnit)\n",
    "TotalFencePrice = FenceNumber * PriceOfFenceUnit\n",
    "print(TotalFencePrice)"
   ]
  },
  {
   "cell_type": "code",
   "execution_count": 28,
   "metadata": {},
   "outputs": [
    {
     "name": "stdout",
     "output_type": "stream",
     "text": [
      "729.6\n"
     ]
    }
   ],
   "source": [
    "Cost27 = 71.2\n",
    "Cost30 = 80\n",
    "Cost56 = Cost30+Cost27\n",
    "Cost28 = Cost27\n",
    "CostBorder = 2*Cost56 + 6*Cost28\n",
    "print(CostBorder)"
   ]
  },
  {
   "cell_type": "code",
   "execution_count": 44,
   "metadata": {},
   "outputs": [
    {
     "name": "stdout",
     "output_type": "stream",
     "text": [
      "4880\n"
     ]
    }
   ],
   "source": [
    "BuriedChickenWireLength = BedBorder + Fence + g # We need extra length of garder for wall lenth when laying chicken wire\n",
    "print(BuriedChickenWireLength)"
   ]
  },
  {
   "cell_type": "code",
   "execution_count": 60,
   "metadata": {},
   "outputs": [
    {
     "name": "stdout",
     "output_type": "stream",
     "text": [
      "1176.0\n"
     ]
    }
   ],
   "source": [
    "BedsChickenWire = (560*0.6)+(3*280)\n",
    "print(BedsChickenWire)"
   ]
  },
  {
   "cell_type": "code",
   "execution_count": 63,
   "metadata": {},
   "outputs": [
    {
     "name": "stdout",
     "output_type": "stream",
     "text": [
      "1425\n"
     ]
    }
   ],
   "source": [
    "WireUnitPrice = 285\n",
    "ChickenWireUnitLength = 1000\n",
    "# TotalChickenWire = BuriedChickenWireLength + BedsChickenWire\n",
    "TotalChickenWire = BuriedChickenWireLength\n",
    "ChickenWireUnits = math.ceil(TotalChickenWire / ChickenWireUnitLength)\n",
    "ChickenWirePrice = ChickenWireUnits*WireUnitPrice\n",
    "print(ChickenWirePrice)\n"
   ]
  },
  {
   "cell_type": "code",
   "execution_count": 64,
   "metadata": {},
   "outputs": [
    {
     "name": "stdout",
     "output_type": "stream",
     "text": [
      "3729.6\n"
     ]
    }
   ],
   "source": [
    "CostGardenStructure = CostBorder + TotalFencePrice + ChickenWirePrice\n",
    "print(CostGardenStructure)"
   ]
  },
  {
   "cell_type": "code",
   "execution_count": null,
   "metadata": {},
   "outputs": [],
   "source": []
  }
 ],
 "metadata": {
  "kernelspec": {
   "display_name": "Python 3",
   "language": "python",
   "name": "python3"
  },
  "language_info": {
   "codemirror_mode": {
    "name": "ipython",
    "version": 3
   },
   "file_extension": ".py",
   "mimetype": "text/x-python",
   "name": "python",
   "nbconvert_exporter": "python",
   "pygments_lexer": "ipython3",
   "version": "3.6.4"
  }
 },
 "nbformat": 4,
 "nbformat_minor": 2
}
